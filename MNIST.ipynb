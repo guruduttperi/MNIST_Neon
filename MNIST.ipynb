{
 "cells": [
  {
   "cell_type": "code",
   "execution_count": 10,
   "metadata": {},
   "outputs": [],
   "source": [
    "#!python2\n",
    "\n",
    "# setting up compute backend \n",
    "\n",
    "from neon.backends import gen_backend\n",
    "\n",
    "batch_size = 32\n",
    "\n",
    "be = gen_backend(batch_size = batch_size)\n"
   ]
  },
  {
   "cell_type": "code",
   "execution_count": 11,
   "metadata": {},
   "outputs": [],
   "source": [
    "# getting our data\n",
    "\n",
    "from neon.data import MNIST\n",
    "\n",
    "mnist = MNIST(path='data/')"
   ]
  },
  {
   "cell_type": "code",
   "execution_count": 12,
   "metadata": {
    "collapsed": true
   },
   "outputs": [],
   "source": [
    "# splitting into train and test\n",
    "train_set = mnist.train_iter\n",
    "valid_set = mnist.valid_iter"
   ]
  },
  {
   "cell_type": "code",
   "execution_count": 13,
   "metadata": {
    "collapsed": true
   },
   "outputs": [],
   "source": [
    "# initializing weights\n",
    "# Gaussian distribution with mean = 0 and S.Deviation = 0.01\n",
    "\n",
    "from neon.initializers import Gaussian\n",
    "\n",
    "init_norm = Gaussian(loc=0.0, scale=0.01)"
   ]
  },
  {
   "cell_type": "code",
   "execution_count": 14,
   "metadata": {
    "collapsed": true
   },
   "outputs": [],
   "source": [
    "# model architecture - multi layer perceptron with fully connected layers\n",
    "# Affine - Fully connected Layer\n",
    "# Rectlin - Rectified Linear Activation Function\n",
    "# Softmax - ensure sum(outputs) = 1 and outputs within range [0,1]\n",
    "\n",
    "from neon.layers import Affine\n",
    "from neon.transforms import Rectlin, Softmax\n",
    "\n",
    "layers = []\n",
    "layers.append(Affine(nout=10, init=init_norm, activation=Rectlin()))\n",
    "layers.append(Affine(nout=10, init=init_norm,\n",
    "                     activation=Softmax()))\n"
   ]
  },
  {
   "cell_type": "code",
   "execution_count": 15,
   "metadata": {
    "collapsed": true
   },
   "outputs": [],
   "source": [
    "# initialize model object\n",
    "\n",
    "from neon.models import Model\n",
    "\n",
    "mlp = Model(layers=layers)"
   ]
  },
  {
   "cell_type": "code",
   "execution_count": 16,
   "metadata": {
    "collapsed": true
   },
   "outputs": [],
   "source": [
    "# cost function - Cross Entropy Loss and Generalized Cost Layer\n",
    "\n",
    "from neon.layers import GeneralizedCost\n",
    "from neon.transforms import CrossEntropyMulti\n",
    "\n",
    "cost = GeneralizedCost(costfunc=CrossEntropyMulti())"
   ]
  },
  {
   "cell_type": "code",
   "execution_count": 17,
   "metadata": {
    "collapsed": true
   },
   "outputs": [],
   "source": [
    "# learning rules - stochastic gradient descent \n",
    "# learning rate = 0.1 , momentum coefficient = 0.9\n",
    "\n",
    "from neon.optimizers import GradientDescentMomentum\n",
    "\n",
    "optimizer = GradientDescentMomentum(0.1, momentum_coef=0.9)"
   ]
  },
  {
   "cell_type": "code",
   "execution_count": 18,
   "metadata": {
    "collapsed": true
   },
   "outputs": [],
   "source": [
    "# API Callbacks - calls operations during model fit\n",
    "\n",
    "from neon.callbacks.callbacks import Callbacks\n",
    "\n",
    "callbacks = Callbacks(mlp, eval_set=valid_set)"
   ]
  },
  {
   "cell_type": "code",
   "execution_count": 19,
   "metadata": {},
   "outputs": [
    {
     "name": "stdout",
     "output_type": "stream",
     "text": [
      "Epoch 0   [Train |████████████████████| 1875/1875 batches, 0.75 cost, 4.44s]\n",
      "Epoch 1   [Train |████████████████████| 1875/1875 batches, 0.44 cost, 5.26s]\n",
      "Epoch 2   [Train |████████████████████| 1875/1875 batches, 0.40 cost, 4.99s]\n",
      "Epoch 3   [Train |████████████████████| 1875/1875 batches, 0.69 cost, 5.11s]\n",
      "Epoch 4   [Train |████████████████████| 1875/1875 batches, 0.50 cost, 5.11s]\n",
      "Epoch 5   [Train |████████████████████| 1875/1875 batches, 0.44 cost, 5.21s]\n",
      "Epoch 6   [Train |████████████████████| 1875/1875 batches, 0.48 cost, 6.01s]\n",
      "Epoch 7   [Train |████████████████████| 1875/1875 batches, 0.46 cost, 6.33s]\n",
      "Epoch 8   [Train |████████████████████| 1875/1875 batches, 0.29 cost, 5.52s]\n",
      "Epoch 9   [Train |████████████████████| 1875/1875 batches, 0.59 cost, 5.56s]\n"
     ]
    }
   ],
   "source": [
    "# training our model\n",
    "# GRADED FUNCTION\n",
    "mlp.fit(train_set, optimizer=optimizer, num_epochs=10, cost=cost, callbacks=callbacks)"
   ]
  },
  {
   "cell_type": "code",
   "execution_count": 20,
   "metadata": {
    "collapsed": true
   },
   "outputs": [],
   "source": [
    "# getting our outputs\n",
    "\n",
    "results = mlp.get_outputs(valid_set)"
   ]
  },
  {
   "cell_type": "code",
   "execution_count": 21,
   "metadata": {},
   "outputs": [
    {
     "name": "stdout",
     "output_type": "stream",
     "text": [
      "Misclassification error = 15.6%\n"
     ]
    }
   ],
   "source": [
    "# evaluating model performance using misclassification rate\n",
    "\n",
    "from neon.transforms import Misclassification\n",
    "\n",
    "error = mlp.eval(valid_set, metric=Misclassification())*100\n",
    "print('Misclassification error = %.1f%%' % error)"
   ]
  },
  {
   "cell_type": "code",
   "execution_count": 22,
   "metadata": {
    "collapsed": true
   },
   "outputs": [],
   "source": [
    "# inference\n",
    "# new digit image\n",
    "\n",
    "import urllib.request\n",
    "from PIL import Image\n",
    "import numpy as np\n",
    "import matplotlib.pyplot as plt\n",
    "%matplotlib inline \n",
    "\n",
    "# download image\n",
    "url = \"http://datawrangling.s3.amazonaws.com/sample_digit.png\"\n",
    "urllib.request.urlretrieve(url, filename=\"data/digit.jpg\")\n",
    "\n",
    "# scale to 28x28 pixels\n",
    "img = Image.open(\"data/digit.jpg\")\n",
    "img.thumbnail((28, 28))\n",
    "\n",
    "digit = np.asarray(img, dtype=np.float32)[:, :, 0]\n",
    "\n",
    "# reshape to a single feature vector\n",
    "digit = digit.reshape(784, 1)\n",
    "\n",
    "# store digit into a GPU tensor\n",
    "x_new = be.zeros((28*28, batch_size), dtype=np.float32)\n",
    "x_new[:, 0] = digit"
   ]
  },
  {
   "cell_type": "code",
   "execution_count": 23,
   "metadata": {},
   "outputs": [
    {
     "name": "stdout",
     "output_type": "stream",
     "text": [
      "Model final layer was: [ 0.  0.  0.  0.  1.  0.  0.  0.  0.  0.]\n",
      "The most probable guess is digit: 4\n"
     ]
    },
    {
     "data": {
      "text/plain": [
       "<matplotlib.image.AxesImage at 0x121f09f60>"
      ]
     },
     "execution_count": 23,
     "metadata": {},
     "output_type": "execute_result"
    },
    {
     "data": {
      "image/png": "[encoded data removed]",
      "text/plain": [
       "<matplotlib.figure.Figure at 0x117c715f8>"
      ]
     },
     "metadata": {},
     "output_type": "display_data"
    }
   ],
   "source": [
    "# testing our model\n",
    "# forward pass through the model\n",
    "outputs = mlp.fprop(x_new)\n",
    "outputs = outputs.get()[:, 0]\n",
    "\n",
    "# examine the output of the model for this image\n",
    "print(\"Model final layer was: {}\".format(outputs))\n",
    "print(\"The most probable guess is digit: {}\".format(np.argmax(outputs)))\n",
    "plt.figure(2)\n",
    "plt.imshow(img)"
   ]
  },
  {
   "cell_type": "code",
   "execution_count": null,
   "metadata": {
    "collapsed": true
   },
   "outputs": [],
   "source": []
  }
 ],
 "metadata": {
  "kernelspec": {
   "display_name": "Python 3",
   "language": "python",
   "name": "python3"
  },
  "language_info": {
   "codemirror_mode": {
    "name": "ipython",
    "version": 3
   },
   "file_extension": ".py",
   "mimetype": "text/x-python",
   "name": "python",
   "nbconvert_exporter": "python",
   "pygments_lexer": "ipython3",
   "version": "3.6.1"
  }
 },
 "nbformat": 4,
 "nbformat_minor": 2
}
